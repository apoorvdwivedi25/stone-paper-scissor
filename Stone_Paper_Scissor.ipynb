{
  "nbformat": 4,
  "nbformat_minor": 0,
  "metadata": {
    "colab": {
      "provenance": [],
      "authorship_tag": "ABX9TyPJjo9VTjPIYYxUdXWSaO15",
      "include_colab_link": true
    },
    "kernelspec": {
      "name": "python3",
      "display_name": "Python 3"
    },
    "language_info": {
      "name": "python"
    }
  },
  "cells": [
    {
      "cell_type": "markdown",
      "metadata": {
        "id": "view-in-github",
        "colab_type": "text"
      },
      "source": [
        "<a href=\"https://colab.research.google.com/github/apoorvdwivedi25/stone-paper-scissor/blob/main/Stone_Paper_Scissor.ipynb\" target=\"_parent\"><img src=\"https://colab.research.google.com/assets/colab-badge.svg\" alt=\"Open In Colab\"/></a>"
      ]
    },
    {
      "cell_type": "code",
      "execution_count": null,
      "metadata": {
        "id": "alBo1jSmnXst"
      },
      "outputs": [],
      "source": [
        "rock = '''\n",
        "    _______\n",
        "---'   ____)\n",
        "      (_____)\n",
        "      (_____)\n",
        "      (____)\n",
        "---.__(___)\n",
        "'''\n",
        "\n",
        "paper = '''\n",
        "    _______\n",
        "---'   ____)____\n",
        "          ______)\n",
        "          _______)\n",
        "         _______)\n",
        "---.__________)\n",
        "'''\n",
        "\n",
        "scissors = '''\n",
        "    _______\n",
        "---'   ____)____\n",
        "          ______)\n",
        "       __________)\n",
        "      (____)\n",
        "---.__(___)\n",
        "'''\n",
        "\n",
        "\n",
        "\n",
        "\n",
        "\n",
        "rock = '''\n",
        "    _______\n",
        "---'   ____)\n",
        "      (_____)\n",
        "      (_____)\n",
        "      (____)\n",
        "---.__(___)\n",
        "'''\n",
        "\n",
        "paper = '''\n",
        "    _______\n",
        "---'   ____)____\n",
        "          ______)\n",
        "          _______)\n",
        "         _______)\n",
        "---.__________)\n",
        "'''\n",
        "\n",
        "scissors = '''\n",
        "    _______\n",
        "---'   ____)____\n",
        "          ______)\n",
        "       __________)\n",
        "      (____)\n",
        "---.__(___)\n",
        "'''\n",
        "import random\n",
        "images=[rock,paper,scissors]\n",
        "player_1=input(\"Enter your name player 1 \").upper()\n",
        "player_2=input(\"Enter your name player 2 \").upper()\n",
        "print(\"hii \"+player_1+\"  \"+player_2+\" how are you,I think you are fine, Now you are in the Game!!\")\n",
        "user_1= int(input(player_1+\" Enter the 0 for Rock, 1 for Paper, 2 for Secissor - \"))\n",
        "user_2= int(input(player_2+\" Enter the 0 for Rock, 1 for Paper, 2 for Secissor - \"))\n",
        "if user_1>=3 or user_1<0:\n",
        "    print(\"Enter a valid choice, You entered a wrong choice!! TRY AGAIN\")\n",
        "    if user_2>=3 or user_2<0:\n",
        "        print(\"Enter a valid choice, You entered a wrong choice!! TRY AGAIN\")\n",
        "else:\n",
        "    print(images[user_1])\n",
        "    print(images[user_2])\n",
        "    if user_1==user_2:\n",
        "        print(\"You both entered same!! Match Drawn\")\n",
        "    elif user_1==0 and user_2==2:\n",
        "        print(\"You win \"+ player_1)\n",
        "    elif user_1==2 and user_2==1:\n",
        "        print(\"You win \",+player_2)\n",
        "    elif user_2>user_1:\n",
        "        print(\"You Win \",player_2)\n",
        "    elif user_1==1 and user_2==0:\n",
        "        print(\"You win \",player_2)\n",
        "    elif user_1==2 and user_2==0:\n",
        "        print(\"You Lose \",player_2)"
      ]
    }
  ]
}